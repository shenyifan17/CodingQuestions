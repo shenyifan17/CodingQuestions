{
 "nbformat": 4,
 "nbformat_minor": 2,
 "metadata": {
  "language_info": {
   "name": "python",
   "codemirror_mode": {
    "name": "ipython",
    "version": 3
   }
  },
  "orig_nbformat": 2,
  "file_extension": ".py",
  "mimetype": "text/x-python",
  "name": "python",
  "npconvert_exporter": "python",
  "pygments_lexer": "ipython3",
  "version": 3
 },
 "cells": [
  {
   "cell_type": "code",
   "execution_count": 24,
   "metadata": {},
   "outputs": [],
   "source": []
  },
  {
   "cell_type": "code",
   "execution_count": 3,
   "metadata": {},
   "outputs": [],
   "source": [
    "def threeSum(nums, target):   \n",
    "    \"\"\"\"\n",
    "    Note not exactly the same with \n",
    "    threeSum, previous threeSum:\n",
    "    nums[i] + nums[j] + nums[k] = 0 \n",
    "\n",
    "    This version: \n",
    "    nums[i] + nums[j] + nums[k] = target\n",
    "    \n",
    "    nums (list) \n",
    "    target (int)\n",
    "    \"\"\"\n",
    "    res = []\n",
    "    nums.sort()\n",
    "    if len(nums) < 3:\n",
    "        return res\n",
    "\n",
    "    for i in range(len(nums) - 2):\n",
    "        if i > 0 and nums[i] == nums[i-1]: continue\n",
    "        j, k = i + 1, len(nums) - 1\n",
    "        while j < k :\n",
    "            s = nums[i] + nums[j] + nums[k] - target \n",
    "            if s == 0:\n",
    "                res.append([nums[i] ,nums[j] ,nums[k]])\n",
    "                j += 1; k -= 1\n",
    "                while j < k and nums[j] == nums[j - 1]: \n",
    "                    j += 1\n",
    "                while j < k and nums[k] == nums[k + 1]: \n",
    "                    k -= 1\n",
    "            elif s < 0 :\n",
    "                j += 1\n",
    "            else: # elif s > 0:\n",
    "                k -= 1\n",
    "    return res    \n",
    "\n",
    "def fourSum(nums, target):\n",
    "    results = []\n",
    "    nums.sort()\n",
    "    for i in range(len(nums) - 3):\n",
    "        print('=================', i)\n",
    "        if i == 0 or nums[i] != nums[i-1]:\n",
    "            print('three sum nums:', nums[i+1:], 'target', target-nums[i])\n",
    "            threeResult = threeSum(nums[i+1:], target-nums[i])\n",
    "            for item in threeResult:\n",
    "                results.append([nums[i]] + item)\n",
    "    return results "
   ]
  },
  {
   "cell_type": "code",
   "execution_count": 93,
   "metadata": {},
   "outputs": [],
   "source": [
    "def fourSum(nums, target):\n",
    "\n",
    "    def findNsum(l, r, target, N, result, results):\n",
    "\n",
    "        print('------------------- l = {l}, r = {r} -----------------'.format(l=l, r=r))\n",
    "        ## EARLY TERMIONATIOn\n",
    "        if r-l+1 < N:\n",
    "            print(\"r-1+1<N, EARLY TERMINATION\")\n",
    "            return \n",
    "        if N < 2:\n",
    "            print(\"N < 2, EARLY TERMINATION\")\n",
    "            return\n",
    "        if target < nums[l] * N:\n",
    "            print(\"target < nums[l]*N, EARLY TERMINATION\")\n",
    "            return\n",
    "        if target > nums[r] * N:\n",
    "            print(\"target > nums[r]*N, EARLY TERMINATION\")\n",
    "\n",
    "        if N == 2: ## two sum\n",
    "            print(\"reduce to TWO SUM\")\n",
    "            ## classic two pointer\n",
    "            while l < r:\n",
    "                \n",
    "                s = nums[l] + nums[r]\n",
    "                print(\"nums[l] = {a}, nums[r] = {b}, s={s}\".format(a=nums[l],\n",
    "                                                                   b=nums[r],\n",
    "                                                                   s=s))\n",
    "\n",
    "                if s == target:\n",
    "\n",
    "                    print(\"two sum find equal, s = {s}, target = {target}\"\\\n",
    "                    .format(s=s, target=target))\n",
    "\n",
    "                    results.append(result + [nums[l], nums[r]])\n",
    "                    print(result, results)\n",
    "                    l += 1\n",
    "                    while l < r and nums[l] == nums[l-1]:\n",
    "                        l +=1 \n",
    "                elif s < target:\n",
    "                    print(\"two sum s < target, s = {s}, target = {target}, l+=1\"\\\n",
    "                    .format(s=s, target=target))\n",
    "                    l += 1\n",
    "                else:\n",
    "                    print(\"two sum s > target, s = {s}, target = {target}, r-=1\"\\\n",
    "                    .format(s=s, target=target))\n",
    "                    r -= 1\n",
    "        else:\n",
    "            for i in range(l, r+1):\n",
    "                print('i =', i)\n",
    "                if (i == l) or (i>l and nums[i-1] != nums[i]):\n",
    "                    print('N = {}, Recurrsion, call itself and reduce N'.format(str(N)))\n",
    "                    print(\"update result to result + [nums[i]] =\", result + [nums[i]], \n",
    "                          \"where result =\", result, \"nums[i] =\", nums[i])\n",
    "                    findNsum(i+1, r, target-nums[i], N-1, result+[nums[i]], results)\n",
    "    nums.sort()\n",
    "    results = []\n",
    "    l = 0\n",
    "    r = len(nums)-1\n",
    "    findNsum(l=0, r=len(nums)-1, target=target, N=4, result=[], results=results)\n",
    "    return results "
   ]
  },
  {
   "cell_type": "code",
   "execution_count": 98,
   "metadata": {},
   "outputs": [],
   "source": [
    "nums = [-2, -1, 0, 0, 1, 2]\n",
    "target = 0\n",
    "nums = [-500, -1, 0, 0, 1, 1000, 100000, 123123123123123] "
   ]
  },
  {
   "cell_type": "code",
   "execution_count": 99,
   "metadata": {},
   "outputs": [
    {
     "name": "stdout",
     "output_type": "stream",
     "text": "------------------- l = 0, r = 7 -----------------\ni = 0\nN = 4, Recurrsion, call itself and reduce N\nupdate result to result + [nums[i]] = [-500] where result = [] nums[i] = -500\n------------------- l = 1, r = 7 -----------------\ni = 1\nN = 3, Recurrsion, call itself and reduce N\nupdate result to result + [nums[i]] = [-500, -1] where result = [-500] nums[i] = -1\n------------------- l = 2, r = 7 -----------------\nreduce to TWO SUM\nnums[l] = 0, nums[r] = 123123123123123, s=123123123123123\ntwo sum s > target, s = 123123123123123, target = 501, r-=1\nnums[l] = 0, nums[r] = 100000, s=100000\ntwo sum s > target, s = 100000, target = 501, r-=1\nnums[l] = 0, nums[r] = 1000, s=1000\ntwo sum s > target, s = 1000, target = 501, r-=1\nnums[l] = 0, nums[r] = 1, s=1\ntwo sum s < target, s = 1, target = 501, l+=1\nnums[l] = 0, nums[r] = 1, s=1\ntwo sum s < target, s = 1, target = 501, l+=1\ni = 2\nN = 3, Recurrsion, call itself and reduce N\nupdate result to result + [nums[i]] = [-500, 0] where result = [-500] nums[i] = 0\n------------------- l = 3, r = 7 -----------------\nreduce to TWO SUM\nnums[l] = 0, nums[r] = 123123123123123, s=123123123123123\ntwo sum s > target, s = 123123123123123, target = 500, r-=1\nnums[l] = 0, nums[r] = 100000, s=100000\ntwo sum s > target, s = 100000, target = 500, r-=1\nnums[l] = 0, nums[r] = 1000, s=1000\ntwo sum s > target, s = 1000, target = 500, r-=1\nnums[l] = 0, nums[r] = 1, s=1\ntwo sum s < target, s = 1, target = 500, l+=1\ni = 3\ni = 4\nN = 3, Recurrsion, call itself and reduce N\nupdate result to result + [nums[i]] = [-500, 1] where result = [-500] nums[i] = 1\n------------------- l = 5, r = 7 -----------------\ntarget < nums[l]*N, EARLY TERMINATION\ni = 5\nN = 3, Recurrsion, call itself and reduce N\nupdate result to result + [nums[i]] = [-500, 1000] where result = [-500] nums[i] = 1000\n------------------- l = 6, r = 7 -----------------\ntarget < nums[l]*N, EARLY TERMINATION\ni = 6\nN = 3, Recurrsion, call itself and reduce N\nupdate result to result + [nums[i]] = [-500, 100000] where result = [-500] nums[i] = 100000\n------------------- l = 7, r = 7 -----------------\nr-1+1<N, EARLY TERMINATION\ni = 7\nN = 3, Recurrsion, call itself and reduce N\nupdate result to result + [nums[i]] = [-500, 123123123123123] where result = [-500] nums[i] = 123123123123123\n------------------- l = 8, r = 7 -----------------\nr-1+1<N, EARLY TERMINATION\ni = 1\nN = 4, Recurrsion, call itself and reduce N\nupdate result to result + [nums[i]] = [-1] where result = [] nums[i] = -1\n------------------- l = 2, r = 7 -----------------\ni = 2\nN = 3, Recurrsion, call itself and reduce N\nupdate result to result + [nums[i]] = [-1, 0] where result = [-1] nums[i] = 0\n------------------- l = 3, r = 7 -----------------\nreduce to TWO SUM\nnums[l] = 0, nums[r] = 123123123123123, s=123123123123123\ntwo sum s > target, s = 123123123123123, target = 1, r-=1\nnums[l] = 0, nums[r] = 100000, s=100000\ntwo sum s > target, s = 100000, target = 1, r-=1\nnums[l] = 0, nums[r] = 1000, s=1000\ntwo sum s > target, s = 1000, target = 1, r-=1\nnums[l] = 0, nums[r] = 1, s=1\ntwo sum find equal, s = 1, target = 1\n[-1, 0] [[-1, 0, 0, 1]]\ni = 3\ni = 4\nN = 3, Recurrsion, call itself and reduce N\nupdate result to result + [nums[i]] = [-1, 1] where result = [-1] nums[i] = 1\n------------------- l = 5, r = 7 -----------------\ntarget < nums[l]*N, EARLY TERMINATION\ni = 5\nN = 3, Recurrsion, call itself and reduce N\nupdate result to result + [nums[i]] = [-1, 1000] where result = [-1] nums[i] = 1000\n------------------- l = 6, r = 7 -----------------\ntarget < nums[l]*N, EARLY TERMINATION\ni = 6\nN = 3, Recurrsion, call itself and reduce N\nupdate result to result + [nums[i]] = [-1, 100000] where result = [-1] nums[i] = 100000\n------------------- l = 7, r = 7 -----------------\nr-1+1<N, EARLY TERMINATION\ni = 7\nN = 3, Recurrsion, call itself and reduce N\nupdate result to result + [nums[i]] = [-1, 123123123123123] where result = [-1] nums[i] = 123123123123123\n------------------- l = 8, r = 7 -----------------\nr-1+1<N, EARLY TERMINATION\ni = 2\nN = 4, Recurrsion, call itself and reduce N\nupdate result to result + [nums[i]] = [0] where result = [] nums[i] = 0\n------------------- l = 3, r = 7 -----------------\ni = 3\nN = 3, Recurrsion, call itself and reduce N\nupdate result to result + [nums[i]] = [0, 0] where result = [0] nums[i] = 0\n------------------- l = 4, r = 7 -----------------\ntarget < nums[l]*N, EARLY TERMINATION\ni = 4\nN = 3, Recurrsion, call itself and reduce N\nupdate result to result + [nums[i]] = [0, 1] where result = [0] nums[i] = 1\n------------------- l = 5, r = 7 -----------------\ntarget < nums[l]*N, EARLY TERMINATION\ni = 5\nN = 3, Recurrsion, call itself and reduce N\nupdate result to result + [nums[i]] = [0, 1000] where result = [0] nums[i] = 1000\n------------------- l = 6, r = 7 -----------------\ntarget < nums[l]*N, EARLY TERMINATION\ni = 6\nN = 3, Recurrsion, call itself and reduce N\nupdate result to result + [nums[i]] = [0, 100000] where result = [0] nums[i] = 100000\n------------------- l = 7, r = 7 -----------------\nr-1+1<N, EARLY TERMINATION\ni = 7\nN = 3, Recurrsion, call itself and reduce N\nupdate result to result + [nums[i]] = [0, 123123123123123] where result = [0] nums[i] = 123123123123123\n------------------- l = 8, r = 7 -----------------\nr-1+1<N, EARLY TERMINATION\ni = 3\ni = 4\nN = 4, Recurrsion, call itself and reduce N\nupdate result to result + [nums[i]] = [1] where result = [] nums[i] = 1\n------------------- l = 5, r = 7 -----------------\ntarget < nums[l]*N, EARLY TERMINATION\ni = 5\nN = 4, Recurrsion, call itself and reduce N\nupdate result to result + [nums[i]] = [1000] where result = [] nums[i] = 1000\n------------------- l = 6, r = 7 -----------------\nr-1+1<N, EARLY TERMINATION\ni = 6\nN = 4, Recurrsion, call itself and reduce N\nupdate result to result + [nums[i]] = [100000] where result = [] nums[i] = 100000\n------------------- l = 7, r = 7 -----------------\nr-1+1<N, EARLY TERMINATION\ni = 7\nN = 4, Recurrsion, call itself and reduce N\nupdate result to result + [nums[i]] = [123123123123123] where result = [] nums[i] = 123123123123123\n------------------- l = 8, r = 7 -----------------\nr-1+1<N, EARLY TERMINATION\n"
    },
    {
     "data": {
      "text/plain": "[[-1, 0, 0, 1]]"
     },
     "execution_count": 99,
     "metadata": {},
     "output_type": "execute_result"
    }
   ],
   "source": [
    "fourSum (nums=nums, target=target)"
   ]
  },
  {
   "cell_type": "code",
   "execution_count": null,
   "metadata": {},
   "outputs": [],
   "source": []
  },
  {
   "cell_type": "code",
   "execution_count": null,
   "metadata": {},
   "outputs": [],
   "source": []
  }
 ]
}