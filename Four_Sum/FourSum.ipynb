{
 "nbformat": 4,
 "nbformat_minor": 2,
 "metadata": {
  "language_info": {
   "name": "python",
   "codemirror_mode": {
    "name": "ipython",
    "version": 3
   }
  },
  "orig_nbformat": 2,
  "file_extension": ".py",
  "mimetype": "text/x-python",
  "name": "python",
  "npconvert_exporter": "python",
  "pygments_lexer": "ipython3",
  "version": 3
 },
 "cells": [
  {
   "cell_type": "code",
   "execution_count": 24,
   "metadata": {},
   "outputs": [],
   "source": []
  },
  {
   "cell_type": "code",
   "execution_count": 3,
   "metadata": {},
   "outputs": [],
   "source": [
    "def threeSum(nums, target):   \n",
    "    \"\"\"\"\n",
    "    Note not exactly the same with \n",
    "    threeSum, previous threeSum:\n",
    "    nums[i] + nums[j] + nums[k] = 0 \n",
    "\n",
    "    This version: \n",
    "    nums[i] + nums[j] + nums[k] = target\n",
    "    \n",
    "    nums (list) \n",
    "    target (int)\n",
    "    \"\"\"\n",
    "    res = []\n",
    "    nums.sort()\n",
    "    if len(nums) < 3:\n",
    "        return res\n",
    "\n",
    "    for i in range(len(nums) - 2):\n",
    "        if i > 0 and nums[i] == nums[i-1]: continue\n",
    "        j, k = i + 1, len(nums) - 1\n",
    "        while j < k :\n",
    "            s = nums[i] + nums[j] + nums[k] - target \n",
    "            if s == 0:\n",
    "                res.append([nums[i] ,nums[j] ,nums[k]])\n",
    "                j += 1; k -= 1\n",
    "                while j < k and nums[j] == nums[j - 1]: \n",
    "                    j += 1\n",
    "                while j < k and nums[k] == nums[k + 1]: \n",
    "                    k -= 1\n",
    "            elif s < 0 :\n",
    "                j += 1\n",
    "            else: # elif s > 0:\n",
    "                k -= 1\n",
    "    return res    \n",
    "\n",
    "def fourSum(nums, target):\n",
    "    results = []\n",
    "    nums.sort()\n",
    "    for i in range(len(nums) - 3):\n",
    "        print('=================', i)\n",
    "        if i == 0 or nums[i] != nums[i-1]:\n",
    "            print('three sum nums:', nums[i+1:], 'target', target-nums[i])\n",
    "            threeResult = threeSum(nums[i+1:], target-nums[i])\n",
    "            for item in threeResult:\n",
    "                results.append([nums[i]] + item)\n",
    "    return results "
   ]
  },
  {
   "cell_type": "code",
   "execution_count": null,
   "metadata": {},
   "outputs": [],
   "source": [
    "def fourSum(nums, target):\n",
    "\n",
    "    def findSum(l, r, target, N, result, results):\n",
    "\n",
    "        if N == 2: ## two sum\n",
    "            while l < r:\n",
    "                s = nums[l] + nums[r]\n",
    "\n",
    "                if s == target:\n",
    "                    results.append(result + [nums[l], nums[r])\n",
    "                    l += 1\n",
    "                    while l < r and nums[i] == nums[l-1]:\n",
    "                        l +=1 \n",
    "                elif s < target:\n",
    "                    l += 1\n",
    "                else:\n",
    "                    r -= 1\n",
    "        else:\n",
    "            for i in range(l, r+1):\n",
    "                if i \n"
   ]
  },
  {
   "cell_type": "code",
   "execution_count": null,
   "metadata": {},
   "outputs": [],
   "source": []
  },
  {
   "cell_type": "code",
   "execution_count": null,
   "metadata": {},
   "outputs": [],
   "source": []
  },
  {
   "cell_type": "code",
   "execution_count": null,
   "metadata": {},
   "outputs": [],
   "source": []
  }
 ]
}