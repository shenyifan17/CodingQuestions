{
 "nbformat": 4,
 "nbformat_minor": 2,
 "metadata": {
  "language_info": {
   "name": "python",
   "codemirror_mode": {
    "name": "ipython",
    "version": 3
   }
  },
  "orig_nbformat": 2,
  "file_extension": ".py",
  "mimetype": "text/x-python",
  "name": "python",
  "npconvert_exporter": "python",
  "pygments_lexer": "ipython3",
  "version": 3
 },
 "cells": [
  {
   "cell_type": "code",
   "execution_count": 1,
   "metadata": {},
   "outputs": [],
   "source": [
    "nums = [-1, 0, 1, 2, -1, 4, 5, -3, -2, 10, -8, -7, 3, 4]"
   ]
  },
  {
   "cell_type": "code",
   "execution_count": 2,
   "metadata": {},
   "outputs": [
    {
     "name": "stdout",
     "output_type": "stream",
     "text": "========================\ni =  0\nj = 1, k = 13, new_target = 8\nj < k TRUE, nums[j] = -7, nums[k] = 10, sum = 3\nsumm < new_target ! \nj < k TRUE, nums[j] = -3, nums[k] = 10, sum = 7\nsumm < new_target ! \nj < k TRUE, nums[j] = -2, nums[k] = 10, sum = 8\nsumm === new_target !,APPEND [-8, -2, 10]\nj < k TRUE, nums[j] = -1, nums[k] = 5, sum = 4\nsumm < new_target ! \nj < k TRUE, nums[j] = -1, nums[k] = 5, sum = 4\nsumm < new_target ! \nj < k TRUE, nums[j] = 0, nums[k] = 5, sum = 5\nsumm < new_target ! \nj < k TRUE, nums[j] = 1, nums[k] = 5, sum = 6\nsumm < new_target ! \nj < k TRUE, nums[j] = 2, nums[k] = 5, sum = 7\nsumm < new_target ! \nj < k TRUE, nums[j] = 3, nums[k] = 5, sum = 8\nsumm === new_target !,APPEND [-8, 3, 5]\nj < k TRUE, nums[j] = 4, nums[k] = 4, sum = 8\nsumm === new_target !,APPEND [-8, 4, 4]\n========================\ni =  1\nj = 2, k = 13, new_target = 7\nj < k TRUE, nums[j] = -3, nums[k] = 10, sum = 7\nsumm === new_target !,APPEND [-7, -3, 10]\nj < k TRUE, nums[j] = -2, nums[k] = 5, sum = 3\nsumm < new_target ! \nj < k TRUE, nums[j] = -1, nums[k] = 5, sum = 4\nsumm < new_target ! \nj < k TRUE, nums[j] = -1, nums[k] = 5, sum = 4\nsumm < new_target ! \nj < k TRUE, nums[j] = 0, nums[k] = 5, sum = 5\nsumm < new_target ! \nj < k TRUE, nums[j] = 1, nums[k] = 5, sum = 6\nsumm < new_target ! \nj < k TRUE, nums[j] = 2, nums[k] = 5, sum = 7\nsumm === new_target !,APPEND [-7, 2, 5]\nj < k TRUE, nums[j] = 3, nums[k] = 4, sum = 7\nsumm === new_target !,APPEND [-7, 3, 4]\n========================\ni =  2\nj = 3, k = 13, new_target = 3\nj < k TRUE, nums[j] = -2, nums[k] = 10, sum = 8\nsumm > new_target ! \nj < k TRUE, nums[j] = -2, nums[k] = 5, sum = 3\nsumm === new_target !,APPEND [-3, -2, 5]\nj < k TRUE, nums[j] = -1, nums[k] = 4, sum = 3\nsumm === new_target !,APPEND [-3, -1, 4]\nj < k TRUE, nums[j] = 0, nums[k] = 3, sum = 3\nsumm === new_target !,APPEND [-3, 0, 3]\nj < k TRUE, nums[j] = 1, nums[k] = 2, sum = 3\nsumm === new_target !,APPEND [-3, 1, 2]\n========================\ni =  3\nj = 4, k = 13, new_target = 2\nj < k TRUE, nums[j] = -1, nums[k] = 10, sum = 9\nsumm > new_target ! \nj < k TRUE, nums[j] = -1, nums[k] = 5, sum = 4\nsumm > new_target ! \nj < k TRUE, nums[j] = -1, nums[k] = 4, sum = 3\nsumm > new_target ! \nj < k TRUE, nums[j] = -1, nums[k] = 4, sum = 3\nsumm > new_target ! \nj < k TRUE, nums[j] = -1, nums[k] = 3, sum = 2\nsumm === new_target !,APPEND [-2, -1, 3]\nj < k TRUE, nums[j] = 0, nums[k] = 2, sum = 2\nsumm === new_target !,APPEND [-2, 0, 2]\n========================\ni =  4\nj = 5, k = 13, new_target = 1\nj < k TRUE, nums[j] = -1, nums[k] = 10, sum = 9\nsumm > new_target ! \nj < k TRUE, nums[j] = -1, nums[k] = 5, sum = 4\nsumm > new_target ! \nj < k TRUE, nums[j] = -1, nums[k] = 4, sum = 3\nsumm > new_target ! \nj < k TRUE, nums[j] = -1, nums[k] = 4, sum = 3\nsumm > new_target ! \nj < k TRUE, nums[j] = -1, nums[k] = 3, sum = 2\nsumm > new_target ! \nj < k TRUE, nums[j] = -1, nums[k] = 2, sum = 1\nsumm === new_target !,APPEND [-1, -1, 2]\nj < k TRUE, nums[j] = 0, nums[k] = 1, sum = 1\nsumm === new_target !,APPEND [-1, 0, 1]\n========================\ni =  5\nnums[i] = -1, nums[i-1] = -1, THEY ARE EQUAL, Continue\n========================\ni =  6\nj = 7, k = 13, new_target = 0\nj < k TRUE, nums[j] = 1, nums[k] = 10, sum = 11\nsumm > new_target ! \nj < k TRUE, nums[j] = 1, nums[k] = 5, sum = 6\nsumm > new_target ! \nj < k TRUE, nums[j] = 1, nums[k] = 4, sum = 5\nsumm > new_target ! \nj < k TRUE, nums[j] = 1, nums[k] = 4, sum = 5\nsumm > new_target ! \nj < k TRUE, nums[j] = 1, nums[k] = 3, sum = 4\nsumm > new_target ! \nj < k TRUE, nums[j] = 1, nums[k] = 2, sum = 3\nsumm > new_target ! \n========================\ni =  7\nj = 8, k = 13, new_target = -1\nj < k TRUE, nums[j] = 2, nums[k] = 10, sum = 12\nsumm > new_target ! \nj < k TRUE, nums[j] = 2, nums[k] = 5, sum = 7\nsumm > new_target ! \nj < k TRUE, nums[j] = 2, nums[k] = 4, sum = 6\nsumm > new_target ! \nj < k TRUE, nums[j] = 2, nums[k] = 4, sum = 6\nsumm > new_target ! \nj < k TRUE, nums[j] = 2, nums[k] = 3, sum = 5\nsumm > new_target ! \n========================\ni =  8\nj = 9, k = 13, new_target = -2\nj < k TRUE, nums[j] = 3, nums[k] = 10, sum = 13\nsumm > new_target ! \nj < k TRUE, nums[j] = 3, nums[k] = 5, sum = 8\nsumm > new_target ! \nj < k TRUE, nums[j] = 3, nums[k] = 4, sum = 7\nsumm > new_target ! \nj < k TRUE, nums[j] = 3, nums[k] = 4, sum = 7\nsumm > new_target ! \n========================\ni =  9\nj = 10, k = 13, new_target = -3\nj < k TRUE, nums[j] = 4, nums[k] = 10, sum = 14\nsumm > new_target ! \nj < k TRUE, nums[j] = 4, nums[k] = 5, sum = 9\nsumm > new_target ! \nj < k TRUE, nums[j] = 4, nums[k] = 4, sum = 8\nsumm > new_target ! \n========================\ni =  10\nj = 11, k = 13, new_target = -4\nj < k TRUE, nums[j] = 4, nums[k] = 10, sum = 14\nsumm > new_target ! \nj < k TRUE, nums[j] = 4, nums[k] = 5, sum = 9\nsumm > new_target ! \n========================\ni =  11\nnums[i] = 4, nums[i-1] = 4, THEY ARE EQUAL, Continue\nWall time: 8 ms\n"
    },
    {
     "data": {
      "text/plain": "[[-8, -2, 10],\n [-8, 3, 5],\n [-8, 4, 4],\n [-7, -3, 10],\n [-7, 2, 5],\n [-7, 3, 4],\n [-3, -2, 5],\n [-3, -1, 4],\n [-3, 0, 3],\n [-3, 1, 2],\n [-2, -1, 3],\n [-2, 0, 2],\n [-1, -1, 2],\n [-1, 0, 1]]"
     },
     "execution_count": 2,
     "metadata": {},
     "output_type": "execute_result"
    }
   ],
   "source": [
    "%%time\n",
    "from Three_Sum.solution_1 import * \n",
    "Solution.threeSum(nums=nums)"
   ]
  },
  {
   "cell_type": "code",
   "execution_count": null,
   "metadata": {},
   "outputs": [],
   "source": []
  }
 ]
}