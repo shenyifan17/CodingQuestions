{
 "nbformat": 4,
 "nbformat_minor": 2,
 "metadata": {
  "language_info": {
   "name": "python",
   "codemirror_mode": {
    "name": "ipython",
    "version": 3
   }
  },
  "orig_nbformat": 2,
  "file_extension": ".py",
  "mimetype": "text/x-python",
  "name": "python",
  "npconvert_exporter": "python",
  "pygments_lexer": "ipython3",
  "version": 3
 },
 "cells": [
  {
   "cell_type": "code",
   "execution_count": 24,
   "metadata": {},
   "outputs": [],
   "source": []
  },
  {
   "cell_type": "code",
   "execution_count": 3,
   "metadata": {},
   "outputs": [],
   "source": [
    "def threeSum(nums, target):   \n",
    "    \"\"\"\"\n",
    "    Note not exactly the same with \n",
    "    threeSum, previous threeSum:\n",
    "    nums[i] + nums[j] + nums[k] = 0 \n",
    "\n",
    "    This version: \n",
    "    nums[i] + nums[j] + nums[k] = target\n",
    "    \n",
    "    nums (list) \n",
    "    target (int)\n",
    "    \"\"\"\n",
    "    res = []\n",
    "    nums.sort()\n",
    "    if len(nums) < 3:\n",
    "        return res\n",
    "\n",
    "    for i in range(len(nums) - 2):\n",
    "        if i > 0 and nums[i] == nums[i-1]: continue\n",
    "        j, k = i + 1, len(nums) - 1\n",
    "        while j < k :\n",
    "            s = nums[i] + nums[j] + nums[k] - target \n",
    "            if s == 0:\n",
    "                res.append([nums[i] ,nums[j] ,nums[k]])\n",
    "                j += 1; k -= 1\n",
    "                while j < k and nums[j] == nums[j - 1]: \n",
    "                    j += 1\n",
    "                while j < k and nums[k] == nums[k + 1]: \n",
    "                    k -= 1\n",
    "            elif s < 0 :\n",
    "                j += 1\n",
    "            else: # elif s > 0:\n",
    "                k -= 1\n",
    "    return res    \n",
    "\n",
    "def fourSum(nums, target):\n",
    "    results = []\n",
    "    nums.sort()\n",
    "    for i in range(len(nums) - 3):\n",
    "        print('=================', i)\n",
    "        if i == 0 or nums[i] != nums[i-1]:\n",
    "            print('three sum nums:', nums[i+1:], 'target', target-nums[i])\n",
    "            threeResult = threeSum(nums[i+1:], target-nums[i])\n",
    "            for item in threeResult:\n",
    "                results.append([nums[i]] + item)\n",
    "    return results "
   ]
  },
  {
   "cell_type": "code",
   "execution_count": 93,
   "metadata": {},
   "outputs": [],
   "source": [
    "def fourSum(nums, target):\n",
    "\n",
    "    def findNsum(l, r, target, N, result, results):\n",
    "\n",
    "        print('------------------- l = {l}, r = {r} -----------------'.format(l=l, r=r))\n",
    "        ## EARLY TERMIONATIOn\n",
    "        if r-l+1 < N:\n",
    "            print(\"r-1+1<N, EARLY TERMINATION\")\n",
    "            return \n",
    "        if N < 2:\n",
    "            print(\"N < 2, EARLY TERMINATION\")\n",
    "            return\n",
    "        if target < nums[l] * N:\n",
    "            print(\"target < nums[l]*N, EARLY TERMINATION\")\n",
    "            return\n",
    "        if target > nums[r] * N:\n",
    "            print(\"target > nums[r]*N, EARLY TERMINATION\")\n",
    "\n",
    "        if N == 2: ## two sum\n",
    "            print(\"reduce to TWO SUM\")\n",
    "            ## classic two pointer\n",
    "            while l < r:\n",
    "                \n",
    "                s = nums[l] + nums[r]\n",
    "                print(\"nums[l] = {a}, nums[r] = {b}, s={s}\".format(a=nums[l],\n",
    "                                                                   b=nums[r],\n",
    "                                                                   s=s))\n",
    "\n",
    "                if s == target:\n",
    "\n",
    "                    print(\"two sum find equal, s = {s}, target = {target}\"\\\n",
    "                    .format(s=s, target=target))\n",
    "\n",
    "                    results.append(result + [nums[l], nums[r]])\n",
    "                    print(result, results)\n",
    "                    l += 1\n",
    "                    while l < r and nums[l] == nums[l-1]:\n",
    "                        l +=1 \n",
    "                elif s < target:\n",
    "                    print(\"two sum s < target, s = {s}, target = {target}, l+=1\"\\\n",
    "                    .format(s=s, target=target))\n",
    "                    l += 1\n",
    "                else:\n",
    "                    print(\"two sum s > target, s = {s}, target = {target}, r-=1\"\\\n",
    "                    .format(s=s, target=target))\n",
    "                    r -= 1\n",
    "        else:\n",
    "            for i in range(l, r+1):\n",
    "                print('i =', i)\n",
    "                if (i == l) or (i>l and nums[i-1] != nums[i]):\n",
    "                    print('N = {}, Recurrsion, call itself and reduce N'.format(str(N)))\n",
    "                    print(\"update result to result + [nums[i]] =\", result + [nums[i]], \n",
    "                          \"where result =\", result, \"nums[i] =\", nums[i])\n",
    "                    findNsum(i+1, r, target-nums[i], N-1, result+[nums[i]], results)\n",
    "    nums.sort()\n",
    "    results = []\n",
    "    l = 0\n",
    "    r = len(nums)-1\n",
    "    findNsum(l=0, r=len(nums)-1, target=target, N=4, result=[], results=results)\n",
    "    return results "
   ]
  },
  {
   "cell_type": "code",
   "execution_count": 98,
   "metadata": {},
   "outputs": [],
   "source": [
    "nums = [-2, -1, 0, 0, 1, 2]\n",
    "target = 0\n",
    "nums = [-500, -1, 0, 0, 1, 1000, 100000, 123123123123123] "
   ]
  },
  {
   "cell_type": "code",
   "execution_count": 99,
   "metadata": {},
   "outputs": [
    {
     "name": "stdout",
     "output_type": "stream",
     "text": "------------------- l = 0, r = 7 -----------------\ni = 0\nN = 4, Recurrsion, call itself and reduce N\nupdate result to result + [nums[i]] = [-500] where result = [] nums[i] = -500\n------------------- l = 1, r = 7 -----------------\ni = 1\nN = 3, Recurrsion, call itself and reduce N\nupdate result to result + [nums[i]] = [-500, -1] where result = [-500] nums[i] = -1\n------------------- l = 2, r = 7 -----------------\nreduce to TWO SUM\nnums[l] = 0, nums[r] = 123123123123123, s=123123123123123\ntwo sum s > target, s = 123123123123123, target = 501, r-=1\nnums[l] = 0, nums[r] = 100000, s=100000\ntwo sum s > target, s = 100000, target = 501, r-=1\nnums[l] = 0, nums[r] = 1000, s=1000\ntwo sum s > target, s = 1000, target = 501, r-=1\nnums[l] = 0, nums[r] = 1, s=1\ntwo sum s < target, s = 1, target = 501, l+=1\nnums[l] = 0, nums[r] = 1, s=1\ntwo sum s < target, s = 1, target = 501, l+=1\ni = 2\nN = 3, Recurrsion, call itself and reduce N\nupdate result to result + [nums[i]] = [-500, 0] where result = [-500] nums[i] = 0\n------------------- l = 3, r = 7 -----------------\nreduce to TWO SUM\nnums[l] = 0, nums[r] = 123123123123123, s=123123123123123\ntwo sum s > target, s = 123123123123123, target = 500, r-=1\nnums[l] = 0, nums[r] = 100000, s=100000\ntwo sum s > target, s = 100000, target = 500, r-=1\nnums[l] = 0, nums[r] = 1000, s=1000\ntwo sum s > target, s = 1000, target = 500, r-=1\nnums[l] = 0, nums[r] = 1, s=1\ntwo sum s < target, s = 1, target = 500, l+=1\ni = 3\ni = 4\nN = 3, Recurrsion, call itself and reduce N\nupdate result to result + [nums[i]] = [-500, 1] where result = [-500] nums[i] = 1\n------------------- l = 5, r = 7 -----------------\ntarget < nums[l]*N, EARLY TERMINATION\ni = 5\nN = 3, Recurrsion, call itself and reduce N\nupdate result to result + [nums[i]] = [-500, 1000] where result = [-500] nums[i] = 1000\n------------------- l = 6, r = 7 -----------------\ntarget < nums[l]*N, EARLY TERMINATION\ni = 6\nN = 3, Recurrsion, call itself and reduce N\nupdate result to result + [nums[i]] = [-500, 100000] where result = [-500] nums[i] = 100000\n------------------- l = 7, r = 7 -----------------\nr-1+1<N, EARLY TERMINATION\ni = 7\nN = 3, Recurrsion, call itself and reduce N\nupdate result to result + [nums[i]] = [-500, 123123123123123] where result = [-500] nums[i] = 123123123123123\n------------------- l = 8, r = 7 -----------------\nr-1+1<N, EARLY TERMINATION\ni = 1\nN = 4, Recurrsion, call itself and reduce N\nupdate result to result + [nums[i]] = [-1] where result = [] nums[i] = -1\n------------------- l = 2, r = 7 -----------------\ni = 2\nN = 3, Recurrsion, call itself and reduce N\nupdate result to result + [nums[i]] = [-1, 0] where result = [-1] nums[i] = 0\n------------------- l = 3, r = 7 -----------------\nreduce to TWO SUM\nnums[l] = 0, nums[r] = 123123123123123, s=123123123123123\ntwo sum s > target, s = 123123123123123, target = 1, r-=1\nnums[l] = 0, nums[r] = 100000, s=100000\ntwo sum s > target, s = 100000, target = 1, r-=1\nnums[l] = 0, nums[r] = 1000, s=1000\ntwo sum s > target, s = 1000, target = 1, r-=1\nnums[l] = 0, nums[r] = 1, s=1\ntwo sum find equal, s = 1, target = 1\n[-1, 0] [[-1, 0, 0, 1]]\ni = 3\ni = 4\nN = 3, Recurrsion, call itself and reduce N\nupdate result to result + [nums[i]] = [-1, 1] where result = [-1] nums[i] = 1\n------------------- l = 5, r = 7 -----------------\ntarget < nums[l]*N, EARLY TERMINATION\ni = 5\nN = 3, Recurrsion, call itself and reduce N\nupdate result to result + [nums[i]] = [-1, 1000] where result = [-1] nums[i] = 1000\n------------------- l = 6, r = 7 -----------------\ntarget < nums[l]*N, EARLY TERMINATION\ni = 6\nN = 3, Recurrsion, call itself and reduce N\nupdate result to result + [nums[i]] = [-1, 100000] where result = [-1] nums[i] = 100000\n------------------- l = 7, r = 7 -----------------\nr-1+1<N, EARLY TERMINATION\ni = 7\nN = 3, Recurrsion, call itself and reduce N\nupdate result to result + [nums[i]] = [-1, 123123123123123] where result = [-1] nums[i] = 123123123123123\n------------------- l = 8, r = 7 -----------------\nr-1+1<N, EARLY TERMINATION\ni = 2\nN = 4, Recurrsion, call itself and reduce N\nupdate result to result + [nums[i]] = [0] where result = [] nums[i] = 0\n------------------- l = 3, r = 7 -----------------\ni = 3\nN = 3, Recurrsion, call itself and reduce N\nupdate result to result + [nums[i]] = [0, 0] where result = [0] nums[i] = 0\n------------------- l = 4, r = 7 -----------------\ntarget < nums[l]*N, EARLY TERMINATION\ni = 4\nN = 3, Recurrsion, call itself and reduce N\nupdate result to result + [nums[i]] = [0, 1] where result = [0] nums[i] = 1\n------------------- l = 5, r = 7 -----------------\ntarget < nums[l]*N, EARLY TERMINATION\ni = 5\nN = 3, Recurrsion, call itself and reduce N\nupdate result to result + [nums[i]] = [0, 1000] where result = [0] nums[i] = 1000\n------------------- l = 6, r = 7 -----------------\ntarget < nums[l]*N, EARLY TERMINATION\ni = 6\nN = 3, Recurrsion, call itself and reduce N\nupdate result to result + [nums[i]] = [0, 100000] where result = [0] nums[i] = 100000\n------------------- l = 7, r = 7 -----------------\nr-1+1<N, EARLY TERMINATION\ni = 7\nN = 3, Recurrsion, call itself and reduce N\nupdate result to result + [nums[i]] = [0, 123123123123123] where result = [0] nums[i] = 123123123123123\n------------------- l = 8, r = 7 -----------------\nr-1+1<N, EARLY TERMINATION\ni = 3\ni = 4\nN = 4, Recurrsion, call itself and reduce N\nupdate result to result + [nums[i]] = [1] where result = [] nums[i] = 1\n------------------- l = 5, r = 7 -----------------\ntarget < nums[l]*N, EARLY TERMINATION\ni = 5\nN = 4, Recurrsion, call itself and reduce N\nupdate result to result + [nums[i]] = [1000] where result = [] nums[i] = 1000\n------------------- l = 6, r = 7 -----------------\nr-1+1<N, EARLY TERMINATION\ni = 6\nN = 4, Recurrsion, call itself and reduce N\nupdate result to result + [nums[i]] = [100000] where result = [] nums[i] = 100000\n------------------- l = 7, r = 7 -----------------\nr-1+1<N, EARLY TERMINATION\ni = 7\nN = 4, Recurrsion, call itself and reduce N\nupdate result to result + [nums[i]] = [123123123123123] where result = [] nums[i] = 123123123123123\n------------------- l = 8, r = 7 -----------------\nr-1+1<N, EARLY TERMINATION\n"
    },
    {
     "data": {
      "text/plain": "[[-1, 0, 0, 1]]"
     },
     "execution_count": 99,
     "metadata": {},
     "output_type": "execute_result"
    }
   ],
   "source": [
    "fourSum (nums=nums, target=target)"
   ]
  },
  {
   "cell_type": "code",
   "execution_count": 162,
   "metadata": {},
   "outputs": [],
   "source": [
    "import time \n",
    "def timeit(method):\n",
    "    def timed(*args, **kw):\n",
    "        ts = time.time()\n",
    "        result = method(*args, **kw)\n",
    "        te = time.time()\n",
    "        if 'log_time' in kw:\n",
    "            name = kw.get('log_name', method.__name__.upper())\n",
    "            kw['log_time'][name] = int((te - ts) * 1000)\n",
    "        else:\n",
    "            print('%r  %2.2f ms' % \\\n",
    "                  (method.__name__, (te - ts) * 1000)) \n",
    "        return result\n",
    "    return timed"
   ]
  },
  {
   "cell_type": "code",
   "execution_count": 163,
   "metadata": {},
   "outputs": [],
   "source": [
    "nums = [1, 0, -1, 0, -2, 2]\n",
    "target = 0 \n",
    "### Hash solutuon \n",
    "import collections\n",
    "dic = collections.defaultdict(set)"
   ]
  },
  {
   "cell_type": "code",
   "execution_count": 164,
   "metadata": {},
   "outputs": [],
   "source": [
    "nums.sort()\n",
    "n = len(nums)\n",
    "res = set()"
   ]
  },
  {
   "cell_type": "code",
   "execution_count": 195,
   "metadata": {},
   "outputs": [],
   "source": [
    "@timeit\n",
    "def fourSum(nums, target):\n",
    "    \"\"\"\n",
    "    :type nums: List[int]\n",
    "    :type target: int\n",
    "    :rtype: List[List[int]]\n",
    "    \"\"\"\n",
    "    nums.sort()\n",
    "    dic = collections.defaultdict(set)\n",
    "    res = set()\n",
    "    n = len(nums)\n",
    "    \n",
    "    for i in range(n):\n",
    "        for j in range(i + 1, n):\n",
    "            sum = nums[i] + nums[j]\n",
    "            print(f\"i = {i}, j = {j}, dic = {dic}, target - sum = {target - sum}\")\n",
    "            for half in dic[target - sum]:\n",
    "                ## decompose as two sum, if target - sum exists, record it together with \n",
    "                ## nums[i], nums[k]\n",
    "                print(f\" ------------- sth in dic ----------- i = {i}, j = {j}, dic = {dic}, half = {half}\")\n",
    "                res.add(tuple(list(half) + [nums[i], nums[j]]))\n",
    "                print(f\".......... res is {res} .............\")\n",
    "                \n",
    "        for k in range(i):\n",
    "            dic[nums[i] + nums[k]].add((nums[k], nums[i]))\n",
    "            print(f\"!!!!!!!!!!!! dic add: ({nums[k]}, {nums[i]})\")\n",
    "             \n",
    "    return list(res) "
   ]
  },
  {
   "cell_type": "code",
   "execution_count": 196,
   "metadata": {},
   "outputs": [
    {
     "data": {
      "text/plain": "[-2, -1, 0, 0, 1, 2]"
     },
     "execution_count": 196,
     "metadata": {},
     "output_type": "execute_result"
    }
   ],
   "source": [
    "nums"
   ]
  },
  {
   "cell_type": "code",
   "execution_count": 198,
   "metadata": {},
   "outputs": [
    {
     "name": "stdout",
     "output_type": "stream",
     "text": "i = 0, j = 1, dic = defaultdict(<class 'set'>, {}), target - sum = 3\ni = 0, j = 2, dic = defaultdict(<class 'set'>, {3: set()}), target - sum = 2\ni = 0, j = 3, dic = defaultdict(<class 'set'>, {3: set(), 2: set()}), target - sum = 2\ni = 0, j = 4, dic = defaultdict(<class 'set'>, {3: set(), 2: set()}), target - sum = 1\ni = 0, j = 5, dic = defaultdict(<class 'set'>, {3: set(), 2: set(), 1: set()}), target - sum = 0\ni = 1, j = 2, dic = defaultdict(<class 'set'>, {3: set(), 2: set(), 1: set(), 0: set()}), target - sum = 1\ni = 1, j = 3, dic = defaultdict(<class 'set'>, {3: set(), 2: set(), 1: set(), 0: set()}), target - sum = 1\ni = 1, j = 4, dic = defaultdict(<class 'set'>, {3: set(), 2: set(), 1: set(), 0: set()}), target - sum = 0\ni = 1, j = 5, dic = defaultdict(<class 'set'>, {3: set(), 2: set(), 1: set(), 0: set()}), target - sum = -1\n!!!!!!!!!!!! dic add: (-2, -1)\ni = 2, j = 3, dic = defaultdict(<class 'set'>, {3: set(), 2: set(), 1: set(), 0: set(), -1: set(), -3: {(-2, -1)}}), target - sum = 0\ni = 2, j = 4, dic = defaultdict(<class 'set'>, {3: set(), 2: set(), 1: set(), 0: set(), -1: set(), -3: {(-2, -1)}}), target - sum = -1\ni = 2, j = 5, dic = defaultdict(<class 'set'>, {3: set(), 2: set(), 1: set(), 0: set(), -1: set(), -3: {(-2, -1)}}), target - sum = -2\n!!!!!!!!!!!! dic add: (-2, 0)\n!!!!!!!!!!!! dic add: (-1, 0)\ni = 3, j = 4, dic = defaultdict(<class 'set'>, {3: set(), 2: set(), 1: set(), 0: set(), -1: {(-1, 0)}, -3: {(-2, -1)}, -2: {(-2, 0)}}), target - sum = -1\n ------------- sth in dic ----------- i = 3, j = 4, dic = defaultdict(<class 'set'>, {3: set(), 2: set(), 1: set(), 0: set(), -1: {(-1, 0)}, -3: {(-2, -1)}, -2: {(-2, 0)}}), half = (-1, 0)\n.......... res is {(-1, 0, 0, 1)} .............\ni = 3, j = 5, dic = defaultdict(<class 'set'>, {3: set(), 2: set(), 1: set(), 0: set(), -1: {(-1, 0)}, -3: {(-2, -1)}, -2: {(-2, 0)}}), target - sum = -2\n ------------- sth in dic ----------- i = 3, j = 5, dic = defaultdict(<class 'set'>, {3: set(), 2: set(), 1: set(), 0: set(), -1: {(-1, 0)}, -3: {(-2, -1)}, -2: {(-2, 0)}}), half = (-2, 0)\n.......... res is {(-1, 0, 0, 1), (-2, 0, 0, 2)} .............\n!!!!!!!!!!!! dic add: (-2, 0)\n!!!!!!!!!!!! dic add: (-1, 0)\n!!!!!!!!!!!! dic add: (0, 0)\ni = 4, j = 5, dic = defaultdict(<class 'set'>, {3: set(), 2: set(), 1: set(), 0: {(0, 0)}, -1: {(-1, 0)}, -3: {(-2, -1)}, -2: {(-2, 0)}}), target - sum = -3\n ------------- sth in dic ----------- i = 4, j = 5, dic = defaultdict(<class 'set'>, {3: set(), 2: set(), 1: set(), 0: {(0, 0)}, -1: {(-1, 0)}, -3: {(-2, -1)}, -2: {(-2, 0)}}), half = (-2, -1)\n.......... res is {(-1, 0, 0, 1), (-2, 0, 0, 2), (-2, -1, 1, 2)} .............\n!!!!!!!!!!!! dic add: (-2, 1)\n!!!!!!!!!!!! dic add: (-1, 1)\n!!!!!!!!!!!! dic add: (0, 1)\n!!!!!!!!!!!! dic add: (0, 1)\n!!!!!!!!!!!! dic add: (-2, 2)\n!!!!!!!!!!!! dic add: (-1, 2)\n!!!!!!!!!!!! dic add: (0, 2)\n!!!!!!!!!!!! dic add: (0, 2)\n!!!!!!!!!!!! dic add: (1, 2)\n'fourSum'  0.00 ms\n"
    },
    {
     "data": {
      "text/plain": "[(-1, 0, 0, 1), (-2, 0, 0, 2), (-2, -1, 1, 2)]"
     },
     "execution_count": 198,
     "metadata": {},
     "output_type": "execute_result"
    }
   ],
   "source": [
    "fourSum(nums, target)"
   ]
  },
  {
   "cell_type": "code",
   "execution_count": 67,
   "metadata": {},
   "outputs": [
    {
     "name": "stdout",
     "output_type": "stream",
     "text": "-2 -1 -3\ndefaultdict(<class 'set'>, {3: set()})\n3\nset()\n"
    }
   ],
   "source": [
    "## decompose hash solution\n",
    "i = 0 \n",
    "j = 1 \n",
    "sum = nums[i] + nums[j]\n",
    "print(nums[i], nums[j], sum)\n",
    "print(dic)\n",
    "print(target - sum)\n",
    "print(dic[target - sum])\n",
    "for half in dic[target  - sum]: ## dic[target - sum] is empty\n",
    "    print(half) ## this is ignored"
   ]
  },
  {
   "cell_type": "code",
   "execution_count": 68,
   "metadata": {},
   "outputs": [
    {
     "name": "stdout",
     "output_type": "stream",
     "text": "-2 0 -2\ndefaultdict(<class 'set'>, {3: set()})\n2\nset()\n"
    }
   ],
   "source": [
    "i = 0 \n",
    "j = 2 \n",
    "sum = nums[i] + nums[j]\n",
    "print(nums[i], nums[j], sum)\n",
    "print(dic)\n",
    "print(target - sum)\n",
    "print(dic[target - sum])\n",
    "for half in dic[target  - sum]: ## dic[target - sum] is empty\n",
    "    print(half) ## this is ignored  ### Same as above "
   ]
  },
  {
   "cell_type": "code",
   "execution_count": null,
   "metadata": {},
   "outputs": [],
   "source": [
    "i = 0 \n",
    "j = 2 \n",
    "sum = nums[i] + nums[j]\n",
    "print(nums[i], nums[j], sum)\n",
    "print(dic)\n",
    "print(target - sum)\n",
    "print(dic[target - sum])\n",
    "for half in dic[target  - sum]: ## dic[target - sum] is empty\n",
    "    print(half) ## this is ignored"
   ]
  },
  {
   "cell_type": "code",
   "execution_count": 80,
   "metadata": {},
   "outputs": [
    {
     "name": "stdout",
     "output_type": "stream",
     "text": "0 1 1\ndefaultdict(<class 'set'>, {3: set(), 2: set(), -1: set(), 0: set(), -2: set(), 1: set()})\n-1\nset()\n"
    }
   ],
   "source": [
    "i = 3\n",
    "j = 4\n",
    "sum = nums[i] + nums[j]\n",
    "print(nums[i], nums[j], sum)\n",
    "print(dic)\n",
    "print(target - sum)\n",
    "print(dic[target - sum])\n",
    "for half in dic[target  - sum]: ## dic[target - sum] is empty\n",
    "    print(half) ## this is ignored"
   ]
  },
  {
   "cell_type": "code",
   "execution_count": 152,
   "metadata": {},
   "outputs": [
    {
     "data": {
      "text/plain": "set()"
     },
     "execution_count": 152,
     "metadata": {},
     "output_type": "execute_result"
    }
   ],
   "source": [
    "dic[3]"
   ]
  },
  {
   "cell_type": "code",
   "execution_count": null,
   "metadata": {},
   "outputs": [],
   "source": []
  }
 ]
}