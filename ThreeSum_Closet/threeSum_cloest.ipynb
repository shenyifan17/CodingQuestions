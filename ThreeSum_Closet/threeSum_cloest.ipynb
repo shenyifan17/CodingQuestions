{
 "nbformat": 4,
 "nbformat_minor": 2,
 "metadata": {
  "language_info": {
   "name": "python",
   "codemirror_mode": {
    "name": "ipython",
    "version": 3
   }
  },
  "orig_nbformat": 2,
  "file_extension": ".py",
  "mimetype": "text/x-python",
  "name": "python",
  "npconvert_exporter": "python",
  "pygments_lexer": "ipython3",
  "version": 3
 },
 "cells": [
  {
   "cell_type": "code",
   "execution_count": 19,
   "metadata": {},
   "outputs": [],
   "source": [
    "nums = [1,1,1,0]\n",
    "target = -100"
   ]
  },
  {
   "cell_type": "code",
   "execution_count": 20,
   "metadata": {},
   "outputs": [
    {
     "data": {
      "text/plain": "[1, 1, 1, 0]"
     },
     "execution_count": 20,
     "metadata": {},
     "output_type": "execute_result"
    }
   ],
   "source": [
    "\n",
    "nums"
   ]
  },
  {
   "cell_type": "code",
   "execution_count": null,
   "metadata": {},
   "outputs": [],
   "source": []
  },
  {
   "cell_type": "code",
   "execution_count": 21,
   "metadata": {},
   "outputs": [],
   "source": [
    "## find i,j,k s.t \n",
    "## abs(nums[i] + nums[j] + nums[k]) cloest to target \n",
    "\n",
    "\n",
    "\n",
    "def threeSumCloest(nums, target):\n",
    "    closest_sum = 2**30\n",
    "    nums.sort()\n",
    "    for i in range(len(nums)):\n",
    "\n",
    "        j, k = i+1, len(nums) - 1\n",
    "\n",
    "        while j < k:\n",
    "            curr_sum = nums[i] + nums[j] + nums[k]\n",
    "            if curr_sum == target:\n",
    "                return curr_sum\n",
    "            if abs(curr_sum - target) < abs(closest_sum - target):\n",
    "                cloest_sum = curr_sum\n",
    "            if curr_sum < target:\n",
    "                j += 1 \n",
    "            else:\n",
    "                k -= 1   \n",
    "\n",
    "    return cloest_sum"
   ]
  },
  {
   "cell_type": "code",
   "execution_count": 22,
   "metadata": {},
   "outputs": [
    {
     "data": {
      "text/plain": "3"
     },
     "execution_count": 22,
     "metadata": {},
     "output_type": "execute_result"
    }
   ],
   "source": [
    "threeSumCloest(nums, target)"
   ]
  },
  {
   "cell_type": "code",
   "execution_count": null,
   "metadata": {},
   "outputs": [],
   "source": [
    "threeSumCloest(nums, target)"
   ]
  },
  {
   "cell_type": "code",
   "execution_count": null,
   "metadata": {},
   "outputs": [],
   "source": []
  }
 ]
}