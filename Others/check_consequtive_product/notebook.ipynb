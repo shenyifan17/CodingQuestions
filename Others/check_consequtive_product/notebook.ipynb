{
 "cells": [
  {
   "cell_type": "code",
   "execution_count": 24,
   "metadata": {},
   "outputs": [
    {
     "name": "stdout",
     "output_type": "stream",
     "text": [
      "pre root1=2.0 root2=4.0 lower_bound=1 upper_bound=5\n",
      "3\n",
      "pre root1=0.6180339887498949 root2=316227.2660172332 lower_bound=0 upper_bound=316228\n",
      "316227\n"
     ]
    }
   ],
   "source": [
    "import numpy as np\n",
    "def solution(A, B):\n",
    "    # Analytical solution, complexity O(1)\n",
    "\n",
    "    def getRoot(y):\n",
    "        return (-1 + np.sqrt(1 + 4 * y)) / 2.0\n",
    "    \n",
    "    root1, root2 = getRoot(A), getRoot(B)\n",
    "    \n",
    "    lower_bound = int(root1 - 1)\n",
    "    upper_bound = int(root2 + 1)\n",
    "    \n",
    "    #lower_bound / upper_bound off at most by 1\n",
    "    print(f\"pre root1={root1} root2={root2} lower_bound={lower_bound} upper_bound={upper_bound}\")\n",
    "    \n",
    "    while lower_bound <= upper_bound:\n",
    "        if lower_bound * (lower_bound+1) < A:\n",
    "            lower_bound += 1\n",
    "        else:\n",
    "            break\n",
    "    while lower_bound <= upper_bound:\n",
    "        if upper_bound * (upper_bound+1) > B:\n",
    "            upper_bound -= 1\n",
    "        else:\n",
    "            break\n",
    "    #print(f\"post root1={root1} root2={root2} lower_bound={lower_bound} upper_bound={upper_bound}\")\n",
    "    return upper_bound - lower_bound + 1\n",
    "        \n",
    "print(solution(6, 20))\n",
    "print(solution(1, 100000000000))"
   ]
  },
  {
   "cell_type": "markdown",
   "metadata": {},
   "source": [
    "###### We start with $x(x+1)=y$, then $xˆ2 + x - y = 0$, we get $x = \\frac{-1 + \\sqrt{1+4y}}{2}$"
   ]
  },
  {
   "cell_type": "code",
   "execution_count": null,
   "metadata": {},
   "outputs": [],
   "source": []
  }
 ],
 "metadata": {
  "kernelspec": {
   "display_name": "Python 3",
   "language": "python",
   "name": "python3"
  },
  "language_info": {
   "codemirror_mode": {
    "name": "ipython",
    "version": 3
   },
   "file_extension": ".py",
   "mimetype": "text/x-python",
   "name": "python",
   "nbconvert_exporter": "python",
   "pygments_lexer": "ipython3",
   "version": "3.8.3"
  }
 },
 "nbformat": 4,
 "nbformat_minor": 4
}
