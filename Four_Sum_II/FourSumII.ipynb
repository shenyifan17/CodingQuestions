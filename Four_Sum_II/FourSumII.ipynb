{
 "nbformat": 4,
 "nbformat_minor": 2,
 "metadata": {
  "language_info": {
   "name": "python",
   "codemirror_mode": {
    "name": "ipython",
    "version": 3
   }
  },
  "orig_nbformat": 2,
  "file_extension": ".py",
  "mimetype": "text/x-python",
  "name": "python",
  "npconvert_exporter": "python",
  "pygments_lexer": "ipython3",
  "version": 3
 },
 "cells": [
  {
   "cell_type": "code",
   "execution_count": 34,
   "metadata": {},
   "outputs": [],
   "source": [
    "A = [1,2,3]\n",
    "B = [-2,-1,-3]\n",
    "C = [-1,2,1]\n",
    "D = [0,2,2]"
   ]
  },
  {
   "cell_type": "code",
   "execution_count": 36,
   "metadata": {},
   "outputs": [
    {
     "data": {
      "text/plain": "9"
     },
     "execution_count": 36,
     "metadata": {},
     "output_type": "execute_result"
    }
   ],
   "source": [
    "import collections \n",
    "AB = collections.Counter(a+b for a in A for b in B)\n",
    "sum(AB[-c-d] for c in C for d in D)"
   ]
  },
  {
   "cell_type": "code",
   "execution_count": 37,
   "metadata": {},
   "outputs": [
    {
     "data": {
      "text/plain": "Counter({-1: 2, 0: 3, -2: 1, 1: 2, 2: 1})"
     },
     "execution_count": 37,
     "metadata": {},
     "output_type": "execute_result"
    }
   ],
   "source": [
    "AB"
   ]
  },
  {
   "cell_type": "code",
   "execution_count": 38,
   "metadata": {},
   "outputs": [
    {
     "name": "stdout",
     "output_type": "stream",
     "text": "============== AB ==============\na = 1, b = -2, a+b = -1\nnot in hash table\n{-1: 1}\na = 1, b = -1, a+b = 0\nnot in hash table\n{-1: 1, 0: 1}\na = 1, b = -3, a+b = -2\nnot in hash table\n{-1: 1, 0: 1, -2: 1}\na = 2, b = -2, a+b = 0\nin hash table\n{-1: 1, 0: 2, -2: 1}\na = 2, b = -1, a+b = 1\nnot in hash table\n{-1: 1, 0: 2, -2: 1, 1: 1}\na = 2, b = -3, a+b = -1\nin hash table\n{-1: 2, 0: 2, -2: 1, 1: 1}\na = 3, b = -2, a+b = 1\nin hash table\n{-1: 2, 0: 2, -2: 1, 1: 2}\na = 3, b = -1, a+b = 2\nnot in hash table\n{-1: 2, 0: 2, -2: 1, 1: 2, 2: 1}\na = 3, b = -3, a+b = 0\nin hash table\n{-1: 2, 0: 3, -2: 1, 1: 2, 2: 1}\n============== CD ===============\nc = -1, d = 0,  -c-d = 1\n -c-d in hashtable, plus = 2\nc = -1, d = 2,  -c-d = -1\n -c-d in hashtable, plus = 2\nc = -1, d = 2,  -c-d = -1\n -c-d in hashtable, plus = 2\nc = 2, d = 0,  -c-d = -2\n -c-d in hashtable, plus = 1\nc = 2, d = 2,  -c-d = -4\nc = 2, d = 2,  -c-d = -4\nc = 1, d = 0,  -c-d = -1\n -c-d in hashtable, plus = 2\nc = 1, d = 2,  -c-d = -3\nc = 1, d = 2,  -c-d = -3\n"
    }
   ],
   "source": [
    "hashtable = {} \n",
    "print(\"============== AB ==============\")\n",
    "for a in A:\n",
    "    for b in B:\n",
    "        print(f\"a = {a}, b = {b}, a+b = {a+b}\")\n",
    "        if a + b in hashtable:\n",
    "            print(\"in hash table\")\n",
    "            hashtable[a+b] += 1\n",
    "        else: \n",
    "            print(\"not in hash table\")\n",
    "            hashtable[a+b] = 1 \n",
    "        print(hashtable)\n",
    "print(\"============== CD ===============\")\n",
    "count = 0\n",
    "for c in C:\n",
    "    for d in D:\n",
    "        print(f\"c = {c}, d = {d},  -c-d = {-c-d}\")\n",
    "        if -c-d in hashtable:\n",
    "            print(f\" -c-d in hashtable, plus = {hashtable[-c-d]}\")\n",
    "            count += hashtable[-c-d]\n"
   ]
  },
  {
   "cell_type": "code",
   "execution_count": 33,
   "metadata": {},
   "outputs": [
    {
     "name": "stdout",
     "output_type": "stream",
     "text": "{-1: 1}\n{-1: 1, 0: 1}\n{-1: 1, 0: 2}\n{-1: 1, 0: 2, 1: 1}\n"
    }
   ],
   "source": [
    "\n",
    "ab = {} \n",
    "for a in A:\n",
    "    for b in B:\n",
    "        ab[a+b] = ab.get(a+b, 0)+1\n",
    "        print(ab) "
   ]
  },
  {
   "cell_type": "code",
   "execution_count": 31,
   "metadata": {},
   "outputs": [
    {
     "name": "stdout",
     "output_type": "stream",
     "text": "3\n"
    }
   ],
   "source": []
  },
  {
   "cell_type": "code",
   "execution_count": 30,
   "metadata": {},
   "outputs": [
    {
     "data": {
      "text/plain": "{-1: 1, 0: 2, 1: 1}"
     },
     "execution_count": 30,
     "metadata": {},
     "output_type": "execute_result"
    }
   ],
   "source": [
    "ab"
   ]
  },
  {
   "cell_type": "code",
   "execution_count": null,
   "metadata": {},
   "outputs": [],
   "source": []
  }
 ]
}